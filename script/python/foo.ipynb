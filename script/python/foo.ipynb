{
 "cells": [
  {
   "cell_type": "code",
   "execution_count": 1,
   "metadata": {},
   "outputs": [],
   "source": [
    "import polars as pl\n",
    "import json\n",
    "from web3 import Web3\n",
    "from eth_abi import decode as decode_abi"
   ]
  },
  {
   "cell_type": "code",
   "execution_count": 2,
   "metadata": {},
   "outputs": [],
   "source": [
    "with open(\"v3_abi.json\", \"r\") as f:\n",
    "    abi = json.load(f)\n",
    "abi = json.loads(abi['result'])\n",
    "\n",
    "\n",
    "web3 = Web3(Web3.HTTPProvider(\"https://eth.llamarpc.com\"))"
   ]
  },
  {
   "cell_type": "code",
   "execution_count": 3,
   "metadata": {},
   "outputs": [
    {
     "name": "stdout",
     "output_type": "stream",
     "text": [
      "shape: (5, 10)\n",
      "┌────────────┬────────────┬───────────┬───────────┬───┬───────────┬───────────┬────────┬───────────┐\n",
      "│ block_numb ┆ transactio ┆ log_index ┆ transacti ┆ … ┆ topic1    ┆ topic2    ┆ topic3 ┆ data      │\n",
      "│ er         ┆ n_index    ┆ ---       ┆ on_hash   ┆   ┆ ---       ┆ ---       ┆ ---    ┆ ---       │\n",
      "│ ---        ┆ ---        ┆ u32       ┆ ---       ┆   ┆ binary    ┆ binary    ┆ binary ┆ binary    │\n",
      "│ u32        ┆ u32        ┆           ┆ binary    ┆   ┆           ┆           ┆        ┆           │\n",
      "╞════════════╪════════════╪═══════════╪═══════════╪═══╪═══════════╪═══════════╪════════╪═══════════╡\n",
      "│ 17780001   ┆ 117        ┆ 411       ┆ [binary   ┆ … ┆ [binary   ┆ [binary   ┆ null   ┆ [binary   │\n",
      "│            ┆            ┆           ┆ data]     ┆   ┆ data]     ┆ data]     ┆        ┆ data]     │\n",
      "│ 17780006   ┆ 109        ┆ 311       ┆ [binary   ┆ … ┆ [binary   ┆ [binary   ┆ null   ┆ [binary   │\n",
      "│            ┆            ┆           ┆ data]     ┆   ┆ data]     ┆ data]     ┆        ┆ data]     │\n",
      "│ 17780008   ┆ 13         ┆ 83        ┆ [binary   ┆ … ┆ [binary   ┆ [binary   ┆ null   ┆ [binary   │\n",
      "│            ┆            ┆           ┆ data]     ┆   ┆ data]     ┆ data]     ┆        ┆ data]     │\n",
      "│ 17780009   ┆ 71         ┆ 171       ┆ [binary   ┆ … ┆ [binary   ┆ [binary   ┆ null   ┆ [binary   │\n",
      "│            ┆            ┆           ┆ data]     ┆   ┆ data]     ┆ data]     ┆        ┆ data]     │\n",
      "│ 17780018   ┆ 65         ┆ 203       ┆ [binary   ┆ … ┆ [binary   ┆ [binary   ┆ null   ┆ [binary   │\n",
      "│            ┆            ┆           ┆ data]     ┆   ┆ data]     ┆ data]     ┆        ┆ data]     │\n",
      "└────────────┴────────────┴───────────┴───────────┴───┴───────────┴───────────┴────────┴───────────┘\n",
      "['block_number', 'transaction_index', 'log_index', 'transaction_hash', 'contract_address', 'topic0', 'topic1', 'topic2', 'topic3', 'data']\n"
     ]
    }
   ],
   "source": [
    "df = pl.read_parquet(\"../../sample.parquet\")\n",
    "\n",
    "print(df.head())\n",
    "print(df.columns)"
   ]
  },
  {
   "cell_type": "code",
   "execution_count": 4,
   "metadata": {},
   "outputs": [
    {
     "data": {
      "text/plain": [
       "'0x00000000000000000000000000000000000000000000000000000000b2cdc211ffffffffffffffffffffffffffffffffffffffffffffffffe9d2ac163f58a0cb0000000000000000000000000000000000005a2e2a1fad4d10d613c658ef7a31000000000000000000000000000000000000000000000001d5669d4b0b0d4d2b00000000000000000000000000000000000000000000000000000000000310f5'"
      ]
     },
     "execution_count": 4,
     "metadata": {},
     "output_type": "execute_result"
    }
   ],
   "source": [
    "Web3.to_hex(df[0, \"data\"])"
   ]
  },
  {
   "cell_type": "code",
   "execution_count": 5,
   "metadata": {},
   "outputs": [
    {
     "name": "stdout",
     "output_type": "stream",
     "text": [
      "0x7a53080ba414158be7ec69b987b5fb7d07dee101fe85488f0853ae16239d0bde\n",
      "0x0c396cd989a39f4459b5fa1aed6a9a8dcdbc45908acfd67e028cd568da98982c\n",
      "0xc42079f94a6350d7e6235f29174924f928cc2ac818eb64fed8004e115fbcca67\n"
     ]
    }
   ],
   "source": [
    "!cast sig-event \"Mint(address sender, address indexed owner, int24 indexed tickLower, int24 indexed tickUpper, uint128 amount, uint256 amount0, uint256 amount1)\"\n",
    "!cast sig-event \"Burn(address indexed owner, int24 indexed tickLower, int24 indexed tickUpper, uint128 amount, uint256 amount0, uint256 amount1)\"\n",
    "!cast sig-event \"Swap(address indexed sender, address indexed recipient, int256 amount0, int256 amount1, uint160 sqrtPriceX96, uint128 liquidity, int24 tick)\""
   ]
  },
  {
   "cell_type": "code",
   "execution_count": 6,
   "metadata": {},
   "outputs": [
    {
     "name": "stdout",
     "output_type": "stream",
     "text": [
      "All events:  (246, 10)\n",
      "Mint events:  (4, 10)\n",
      "Burn events:  (4, 10)\n",
      "Swap events:  (238, 10)\n"
     ]
    },
    {
     "data": {
      "text/html": [
       "<div><style>\n",
       ".dataframe > thead > tr > th,\n",
       ".dataframe > tbody > tr > td {\n",
       "  text-align: right;\n",
       "}\n",
       "</style>\n",
       "<small>shape: (8, 10)</small><table border=\"1\" class=\"dataframe\"><thead><tr><th>block_number</th><th>transaction_index</th><th>log_index</th><th>transaction_hash</th><th>contract_address</th><th>topic0</th><th>topic1</th><th>topic2</th><th>topic3</th><th>data</th></tr><tr><td>u32</td><td>u32</td><td>u32</td><td>binary</td><td>binary</td><td>binary</td><td>binary</td><td>binary</td><td>binary</td><td>binary</td></tr></thead><tbody><tr><td>17780001</td><td>117</td><td>411</td><td>[binary data]</td><td>[binary data]</td><td>[binary data]</td><td>[binary data]</td><td>[binary data]</td><td>null</td><td>[binary data]</td></tr><tr><td>17780006</td><td>109</td><td>311</td><td>[binary data]</td><td>[binary data]</td><td>[binary data]</td><td>[binary data]</td><td>[binary data]</td><td>null</td><td>[binary data]</td></tr><tr><td>17780008</td><td>13</td><td>83</td><td>[binary data]</td><td>[binary data]</td><td>[binary data]</td><td>[binary data]</td><td>[binary data]</td><td>null</td><td>[binary data]</td></tr><tr><td>17780009</td><td>71</td><td>171</td><td>[binary data]</td><td>[binary data]</td><td>[binary data]</td><td>[binary data]</td><td>[binary data]</td><td>null</td><td>[binary data]</td></tr><tr><td>17780018</td><td>65</td><td>203</td><td>[binary data]</td><td>[binary data]</td><td>[binary data]</td><td>[binary data]</td><td>[binary data]</td><td>null</td><td>[binary data]</td></tr><tr><td>17780021</td><td>1</td><td>14</td><td>[binary data]</td><td>[binary data]</td><td>[binary data]</td><td>[binary data]</td><td>[binary data]</td><td>null</td><td>[binary data]</td></tr><tr><td>17780021</td><td>2</td><td>21</td><td>[binary data]</td><td>[binary data]</td><td>[binary data]</td><td>[binary data]</td><td>[binary data]</td><td>null</td><td>[binary data]</td></tr><tr><td>17780022</td><td>157</td><td>361</td><td>[binary data]</td><td>[binary data]</td><td>[binary data]</td><td>[binary data]</td><td>[binary data]</td><td>null</td><td>[binary data]</td></tr></tbody></table></div>"
      ],
      "text/plain": [
       "shape: (8, 10)\n",
       "┌────────────┬────────────┬───────────┬───────────┬───┬───────────┬───────────┬────────┬───────────┐\n",
       "│ block_numb ┆ transactio ┆ log_index ┆ transacti ┆ … ┆ topic1    ┆ topic2    ┆ topic3 ┆ data      │\n",
       "│ er         ┆ n_index    ┆ ---       ┆ on_hash   ┆   ┆ ---       ┆ ---       ┆ ---    ┆ ---       │\n",
       "│ ---        ┆ ---        ┆ u32       ┆ ---       ┆   ┆ binary    ┆ binary    ┆ binary ┆ binary    │\n",
       "│ u32        ┆ u32        ┆           ┆ binary    ┆   ┆           ┆           ┆        ┆           │\n",
       "╞════════════╪════════════╪═══════════╪═══════════╪═══╪═══════════╪═══════════╪════════╪═══════════╡\n",
       "│ 17780001   ┆ 117        ┆ 411       ┆ [binary   ┆ … ┆ [binary   ┆ [binary   ┆ null   ┆ [binary   │\n",
       "│            ┆            ┆           ┆ data]     ┆   ┆ data]     ┆ data]     ┆        ┆ data]     │\n",
       "│ 17780006   ┆ 109        ┆ 311       ┆ [binary   ┆ … ┆ [binary   ┆ [binary   ┆ null   ┆ [binary   │\n",
       "│            ┆            ┆           ┆ data]     ┆   ┆ data]     ┆ data]     ┆        ┆ data]     │\n",
       "│ 17780008   ┆ 13         ┆ 83        ┆ [binary   ┆ … ┆ [binary   ┆ [binary   ┆ null   ┆ [binary   │\n",
       "│            ┆            ┆           ┆ data]     ┆   ┆ data]     ┆ data]     ┆        ┆ data]     │\n",
       "│ 17780009   ┆ 71         ┆ 171       ┆ [binary   ┆ … ┆ [binary   ┆ [binary   ┆ null   ┆ [binary   │\n",
       "│            ┆            ┆           ┆ data]     ┆   ┆ data]     ┆ data]     ┆        ┆ data]     │\n",
       "│ 17780018   ┆ 65         ┆ 203       ┆ [binary   ┆ … ┆ [binary   ┆ [binary   ┆ null   ┆ [binary   │\n",
       "│            ┆            ┆           ┆ data]     ┆   ┆ data]     ┆ data]     ┆        ┆ data]     │\n",
       "│ 17780021   ┆ 1          ┆ 14        ┆ [binary   ┆ … ┆ [binary   ┆ [binary   ┆ null   ┆ [binary   │\n",
       "│            ┆            ┆           ┆ data]     ┆   ┆ data]     ┆ data]     ┆        ┆ data]     │\n",
       "│ 17780021   ┆ 2          ┆ 21        ┆ [binary   ┆ … ┆ [binary   ┆ [binary   ┆ null   ┆ [binary   │\n",
       "│            ┆            ┆           ┆ data]     ┆   ┆ data]     ┆ data]     ┆        ┆ data]     │\n",
       "│ 17780022   ┆ 157        ┆ 361       ┆ [binary   ┆ … ┆ [binary   ┆ [binary   ┆ null   ┆ [binary   │\n",
       "│            ┆            ┆           ┆ data]     ┆   ┆ data]     ┆ data]     ┆        ┆ data]     │\n",
       "└────────────┴────────────┴───────────┴───────────┴───┴───────────┴───────────┴────────┴───────────┘"
      ]
     },
     "execution_count": 6,
     "metadata": {},
     "output_type": "execute_result"
    }
   ],
   "source": [
    "mint_event_bytes = Web3.to_bytes(0x7a53080ba414158be7ec69b987b5fb7d07dee101fe85488f0853ae16239d0bde)\n",
    "burn_event_bytes = Web3.to_bytes(0x0c396cd989a39f4459b5fa1aed6a9a8dcdbc45908acfd67e028cd568da98982c)\n",
    "swap_event_bytes = Web3.to_bytes(0xc42079f94a6350d7e6235f29174924f928cc2ac818eb64fed8004e115fbcca67)\n",
    "\n",
    "event_df = df.filter((pl.col(\"topic0\") == mint_event_bytes) | (pl.col(\"topic0\") == burn_event_bytes) | (pl.col(\"topic0\") == swap_event_bytes))\n",
    "print(\"All events: \", event_df.shape)\n",
    "print(\"Mint events: \", event_df.filter(pl.col(\"topic0\") == mint_event_bytes).shape)\n",
    "print(\"Burn events: \", event_df.filter(pl.col(\"topic0\") == burn_event_bytes).shape)\n",
    "print(\"Swap events: \", event_df.filter(pl.col(\"topic0\") == swap_event_bytes).shape)\n",
    "event_df.head(8)"
   ]
  },
  {
   "cell_type": "code",
   "execution_count": 7,
   "metadata": {},
   "outputs": [],
   "source": [
    "mint_decode_types = [\"address\", \"uint128\", \"uint256\", \"uint256\"]\n",
    "burn_decode_types = [\"uint128\", \"uint256\", \"uint256\"]\n",
    "swap_decode_types = [\"int256\", \"int256\", \"uint160\", \"uint128\", \"int24\"]"
   ]
  },
  {
   "cell_type": "code",
   "execution_count": 8,
   "metadata": {},
   "outputs": [],
   "source": [
    "# loop over the events and simulate the actions against the pools\n",
    "for row in event_df.iter_rows(named=True):\n",
    "    if row['topic0'] == mint_event_bytes:\n",
    "        (sender, amount, amount0, amount1) = decode_abi(mint_decode_types, row['data'])\n",
    "        owner = decode_abi([\"address\"], row['topic1'])\n",
    "        tickLower = decode_abi([\"int24\"], row['topic2'])\n",
    "        tickUpper = decode_abi([\"int24\"], row['topic3'])\n",
    "    elif row['topic0'] == burn_event_bytes:\n",
    "        (amount, amount0, amount1) = decode_abi(burn_decode_types, row['data'])\n",
    "        owner = decode_abi([\"address\"], row['topic1'])\n",
    "        tickLower = decode_abi([\"int24\"], row['topic2'])\n",
    "        tickUpper = decode_abi([\"int24\"], row['topic3'])\n",
    "    elif row['topic0'] == swap_event_bytes:\n",
    "        (amount0, amount1, sqrtPriceX96, liquidity, tick) = decode_abi(swap_decode_types, row['data'])\n",
    "        sender = decode_abi([\"address\"], row['topic1'])\n",
    "        recipient = decode_abi([\"address\"], row['topic2'])"
   ]
  },
  {
   "cell_type": "code",
   "execution_count": null,
   "metadata": {},
   "outputs": [],
   "source": []
  }
 ],
 "metadata": {
  "kernelspec": {
   "display_name": "v4",
   "language": "python",
   "name": "python3"
  },
  "language_info": {
   "codemirror_mode": {
    "name": "ipython",
    "version": 3
   },
   "file_extension": ".py",
   "mimetype": "text/x-python",
   "name": "python",
   "nbconvert_exporter": "python",
   "pygments_lexer": "ipython3",
   "version": "3.11.4"
  },
  "orig_nbformat": 4
 },
 "nbformat": 4,
 "nbformat_minor": 2
}
