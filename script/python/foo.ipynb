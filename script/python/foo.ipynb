{
 "cells": [
  {
   "cell_type": "markdown",
   "metadata": {},
   "source": [
    "## Imports, Configs, and Constants"
   ]
  },
  {
   "cell_type": "code",
   "execution_count": 1,
   "metadata": {},
   "outputs": [],
   "source": [
    "import polars as pl\n",
    "import json\n",
    "from web3 import Web3\n",
    "from eth_abi import decode as decode_abi\n",
    "from eth_account import Account\n",
    "import math\n",
    "\n",
    "mainnet = Web3(Web3.HTTPProvider(\"https://eth.llamarpc.com\"))\n",
    "anvil = Web3(Web3.HTTPProvider(\"http://localhost:8545\"))\n",
    "\n",
    "Account.enable_unaudited_hdwallet_features()\n",
    "account = anvil.eth.account.from_mnemonic(\n",
    "    \"test test test test test test test test test test test junk\"\n",
    ")\n",
    "\n",
    "default_txn = {\n",
    "    'from': account.address,\n",
    "    'gas': 2_000_000,\n",
    "    'maxFeePerGas': anvil.to_wei(10, 'gwei'),\n",
    "    'maxPriorityFeePerGas': anvil.to_wei(2, 'gwei'),\n",
    "}\n",
    "\n",
    "# parameters for infinite impact\n",
    "MIN_PRICE_LIMIT = 4295128739 + 1\n",
    "MAX_PRICE_LIMIT = 1461446703485210103287273052203988822378723970342 - 1"
   ]
  },
  {
   "cell_type": "code",
   "execution_count": 2,
   "metadata": {},
   "outputs": [
    {
     "name": "stdout",
     "output_type": "stream",
     "text": [
      "\n",
      "###\n",
      "Finding wallets for all the necessary addresses...\n",
      "\u001b[2K\u001b[32m⠄\u001b[0m [00:00:00] [\u001b[36m###########################################\u001b[34m\u001b[0m\u001b[0m] 16/16 receipts (0.0s)\u001b[32m⠁\u001b[0m [00:00:00] [\u001b[36m\u001b[34m--------------------------------------------\u001b[0m\u001b[0m] 0/16 receipts (0.0s)\n",
      "##### anvil-hardhat\n",
      "✅  [Success]Hash: 0xed778187494fb29329a488719545f9e42949f46a31b1cc7401367ba2abebbd56\n",
      "Contract Address: 0x5FbDB2315678afecb367f032d93F642f64180aa3\n",
      "Block: 1\n",
      "Paid: 0.02424584 ETH (6061460 gas * 4 gwei)\n",
      "\n",
      "\n",
      "##### anvil-hardhat\n",
      "✅  [Success]Hash: 0xeb90c9e33e7dcc6d7371b8bbdf81b944cb4f785b910804c5f71165f6ffed56a7\n",
      "Contract Address: 0xe7f1725E7734CE288F8367e1Bb143E90bb3F0512\n",
      "Block: 1\n",
      "Paid: 0.006136544 ETH (1534136 gas * 4 gwei)\n",
      "\n",
      "\n",
      "##### anvil-hardhat\n",
      "✅  [Success]Hash: 0xd2d77a3d38f6e8f57175105d6a24cb5055d789e49c64dd6c8816ef313bfb59ec\n",
      "Contract Address: 0x9fE46736679d2D9a65F0992F2272dE9f3c7fa6e0\n",
      "Block: 1\n",
      "Paid: 0.001877104 ETH (469276 gas * 4 gwei)\n",
      "\n",
      "\n",
      "##### anvil-hardhat\n",
      "✅  [Success]Hash: 0xdb80197eda5172276e08fc3f0558f745afc9457ede0a3b7e7e644d0b33c94af7\n",
      "Contract Address: 0xCf7Ed3AccA5a467e9e704C703E8D87F634fB0Fc9\n",
      "Block: 1\n",
      "Paid: 0.003313328 ETH (828332 gas * 4 gwei)\n",
      "\n",
      "\n",
      "##### anvil-hardhat\n",
      "✅  [Success]Hash: 0xfb1c3bcc5c00189b61fb260715a21d79243b46251e429a7852c0ef290bda1d1a\n",
      "Contract Address: 0xDc64a140Aa3E981100a9becA4E685f962f0cF6C9\n",
      "Block: 1\n",
      "Paid: 0.004059776 ETH (1014944 gas * 4 gwei)\n",
      "\n",
      "\n",
      "##### anvil-hardhat\n",
      "✅  [Success]Hash: 0x9a3ca26fed9aaff2c599a16ad2d7b077996da03bdb54544f966e619f8d06a84d\n",
      "Contract Address: 0x5FC8d32690cc91D4c39d9d3abcBD16989F875707\n",
      "Block: 1\n",
      "Paid: 0.002894112 ETH (723528 gas * 4 gwei)\n",
      "\n",
      "\n",
      "##### anvil-hardhat\n",
      "✅  [Success]Hash: 0x6f26bf6a8df1e7586b68853779d744aaaa0bbc65ac9ec3820d9885af2af7d1bb\n",
      "Contract Address: 0x0165878A594ca255338adfa4d48449f69242Eb8F\n",
      "Block: 2\n",
      "Paid: 0.0030368131249248 ETH (766176 gas * 3.9635973 gwei)\n",
      "\n",
      "\n",
      "##### anvil-hardhat\n",
      "✅  [Success]Hash: 0x3b3de5b7fe2c71ceccf34542c1a9f5242741b2fc5a2841031ea624e56178e008\n",
      "Contract Address: 0xa513E6E4b8f2a923D98304ec87F64353C4D5C853\n",
      "Block: 3\n",
      "Paid: 0.002949241287526464 ETH (766176 gas * 3.849300014 gwei)\n",
      "\n",
      "\n",
      "##### anvil-hardhat\n",
      "✅  [Success]Hash: 0x688a65d728c97ed1265696c57ca42508f544e50a588399951ec0db5d40f6e75c\n",
      "Block: 3\n",
      "Paid: 0.000262784013355752 ETH (68268 gas * 3.849300014 gwei)\n",
      "\n",
      "\n",
      "##### anvil-hardhat\n",
      "✅  [Success]Hash: 0xc5a8de9026f47b1d745f7907d33d59150f3a21da87111c2fd05eda8c7ab41533\n",
      "Block: 3\n",
      "Paid: 0.000262784013355752 ETH (68268 gas * 3.849300014 gwei)\n",
      "\n",
      "\n",
      "##### anvil-hardhat\n",
      "✅  [Success]Hash: 0x0c509ea677ba27a22175ac65fba6a54585b1045708d6630f083c3bd5239a40ab\n",
      "Block: 3\n",
      "Paid: 0.00017895395765086 ETH (46490 gas * 3.849300014 gwei)\n",
      "\n",
      "\n",
      "##### anvil-hardhat\n",
      "✅  [Success]Hash: 0xfcac7e09dbb5af495e9f1b415fd454da9c3dfb723d701d6bd63654ded31f0f85\n",
      "Block: 3\n",
      "Paid: 0.00017895395765086 ETH (46490 gas * 3.849300014 gwei)\n",
      "\n",
      "\n",
      "##### anvil-hardhat\n",
      "✅  [Success]Hash: 0xdf771e59d2d5a0946c7bae82f6004af0f575255c7e6781257c1577da8c56e640\n",
      "Block: 3\n",
      "Paid: 0.000178907766050692 ETH (46478 gas * 3.849300014 gwei)\n",
      "\n",
      "\n",
      "##### anvil-hardhat\n",
      "✅  [Success]Hash: 0x73dcfb9d17902a0d9f5d8d62f5f6fc5f3a5e8afc5472afefbd251602060092fb\n",
      "Block: 3\n",
      "Paid: 0.00017895395765086 ETH (46490 gas * 3.849300014 gwei)\n",
      "\n",
      "\n",
      "##### anvil-hardhat\n",
      "✅  [Success]Hash: 0x1085f8ff5024676bc2042ff26ff645515103d9d6f06ffe4a676a3aa5bcf654f9\n",
      "Block: 4\n",
      "Paid: 0.00017437666801096 ETH (46490 gas * 3.750842504 gwei)\n",
      "\n",
      "\n",
      "##### anvil-hardhat\n",
      "✅  [Success]Hash: 0xcf91eb2de050c2591c7cc598e37018ce401caba8fcf4b57b691ac066014b4a17\n",
      "Block: 5\n",
      "Paid: 0.00016998297060224 ETH (46478 gas * 3.65727808 gwei)\n",
      "\n",
      "\u001b[2K"
     ]
    }
   ],
   "source": [
    "!forge script ../Anvil.s.sol --rpc-url http://localhost:8545 --private-key 0xac0974bec39a17e36ba4a6b4d238ff944bacb478cbed5efcae784d7bf4f2ff80 --code-size-limit 30000 --broadcast --silent"
   ]
  },
  {
   "cell_type": "markdown",
   "metadata": {},
   "source": [
    "Uni v3 ETH/USDC 5bps Logs"
   ]
  },
  {
   "cell_type": "code",
   "execution_count": 3,
   "metadata": {},
   "outputs": [
    {
     "name": "stdout",
     "output_type": "stream",
     "text": [
      "(56503, 10)\n",
      "shape: (5, 10)\n",
      "┌────────────┬────────────┬───────────┬───────────┬───┬───────────┬───────────┬────────┬───────────┐\n",
      "│ block_numb ┆ transactio ┆ log_index ┆ transacti ┆ … ┆ topic1    ┆ topic2    ┆ topic3 ┆ data      │\n",
      "│ er         ┆ n_index    ┆ ---       ┆ on_hash   ┆   ┆ ---       ┆ ---       ┆ ---    ┆ ---       │\n",
      "│ ---        ┆ ---        ┆ u32       ┆ ---       ┆   ┆ binary    ┆ binary    ┆ binary ┆ binary    │\n",
      "│ u32        ┆ u32        ┆           ┆ binary    ┆   ┆           ┆           ┆        ┆           │\n",
      "╞════════════╪════════════╪═══════════╪═══════════╪═══╪═══════════╪═══════════╪════════╪═══════════╡\n",
      "│ 17686542   ┆ 0          ┆ 2         ┆ [binary   ┆ … ┆ [binary   ┆ [binary   ┆ null   ┆ [binary   │\n",
      "│            ┆            ┆           ┆ data]     ┆   ┆ data]     ┆ data]     ┆        ┆ data]     │\n",
      "│ 17686543   ┆ 84         ┆ 194       ┆ [binary   ┆ … ┆ [binary   ┆ [binary   ┆ null   ┆ [binary   │\n",
      "│            ┆            ┆           ┆ data]     ┆   ┆ data]     ┆ data]     ┆        ┆ data]     │\n",
      "│ 17686543   ┆ 100        ┆ 218       ┆ [binary   ┆ … ┆ [binary   ┆ [binary   ┆ null   ┆ [binary   │\n",
      "│            ┆            ┆           ┆ data]     ┆   ┆ data]     ┆ data]     ┆        ┆ data]     │\n",
      "│ 17686545   ┆ 13         ┆ 33        ┆ [binary   ┆ … ┆ [binary   ┆ [binary   ┆ null   ┆ [binary   │\n",
      "│            ┆            ┆           ┆ data]     ┆   ┆ data]     ┆ data]     ┆        ┆ data]     │\n",
      "│ 17686546   ┆ 161        ┆ 215       ┆ [binary   ┆ … ┆ [binary   ┆ [binary   ┆ null   ┆ [binary   │\n",
      "│            ┆            ┆           ┆ data]     ┆   ┆ data]     ┆ data]     ┆        ┆ data]     │\n",
      "└────────────┴────────────┴───────────┴───────────┴───┴───────────┴───────────┴────────┴───────────┘\n",
      "['block_number', 'transaction_index', 'log_index', 'transaction_hash', 'contract_address', 'topic0', 'topic1', 'topic2', 'topic3', 'data']\n"
     ]
    }
   ],
   "source": [
    "df = pl.read_parquet(\"../../cryo_data/*.parquet\")\n",
    "print(df.shape)\n",
    "print(df.head())\n",
    "print(df.columns)"
   ]
  },
  {
   "cell_type": "markdown",
   "metadata": {},
   "source": [
    "Get topic hashes for desired logs: Mint, Burn, and Swap"
   ]
  },
  {
   "cell_type": "code",
   "execution_count": 4,
   "metadata": {},
   "outputs": [
    {
     "name": "stdout",
     "output_type": "stream",
     "text": [
      "0x7a53080ba414158be7ec69b987b5fb7d07dee101fe85488f0853ae16239d0bde\n",
      "0x0c396cd989a39f4459b5fa1aed6a9a8dcdbc45908acfd67e028cd568da98982c\n",
      "0xc42079f94a6350d7e6235f29174924f928cc2ac818eb64fed8004e115fbcca67\n"
     ]
    }
   ],
   "source": [
    "!cast sig-event \"Mint(address sender, address indexed owner, int24 indexed tickLower, int24 indexed tickUpper, uint128 amount, uint256 amount0, uint256 amount1)\"\n",
    "!cast sig-event \"Burn(address indexed owner, int24 indexed tickLower, int24 indexed tickUpper, uint128 amount, uint256 amount0, uint256 amount1)\"\n",
    "!cast sig-event \"Swap(address indexed sender, address indexed recipient, int256 amount0, int256 amount1, uint160 sqrtPriceX96, uint128 liquidity, int24 tick)\""
   ]
  },
  {
   "cell_type": "code",
   "execution_count": 5,
   "metadata": {},
   "outputs": [
    {
     "name": "stdout",
     "output_type": "stream",
     "text": [
      "All events:  (55483, 10)\n",
      "Mint events:  (968, 10)\n",
      "Burn events:  (1056, 10)\n",
      "Swap events:  (53459, 10)\n"
     ]
    },
    {
     "data": {
      "text/html": [
       "<div><style>\n",
       ".dataframe > thead > tr > th,\n",
       ".dataframe > tbody > tr > td {\n",
       "  text-align: right;\n",
       "}\n",
       "</style>\n",
       "<small>shape: (8, 10)</small><table border=\"1\" class=\"dataframe\"><thead><tr><th>block_number</th><th>transaction_index</th><th>log_index</th><th>transaction_hash</th><th>contract_address</th><th>topic0</th><th>topic1</th><th>topic2</th><th>topic3</th><th>data</th></tr><tr><td>u32</td><td>u32</td><td>u32</td><td>binary</td><td>binary</td><td>binary</td><td>binary</td><td>binary</td><td>binary</td><td>binary</td></tr></thead><tbody><tr><td>17686542</td><td>0</td><td>2</td><td>[binary data]</td><td>[binary data]</td><td>[binary data]</td><td>[binary data]</td><td>[binary data]</td><td>null</td><td>[binary data]</td></tr><tr><td>17686543</td><td>84</td><td>194</td><td>[binary data]</td><td>[binary data]</td><td>[binary data]</td><td>[binary data]</td><td>[binary data]</td><td>null</td><td>[binary data]</td></tr><tr><td>17686543</td><td>100</td><td>218</td><td>[binary data]</td><td>[binary data]</td><td>[binary data]</td><td>[binary data]</td><td>[binary data]</td><td>null</td><td>[binary data]</td></tr><tr><td>17686545</td><td>13</td><td>33</td><td>[binary data]</td><td>[binary data]</td><td>[binary data]</td><td>[binary data]</td><td>[binary data]</td><td>null</td><td>[binary data]</td></tr><tr><td>17686546</td><td>161</td><td>215</td><td>[binary data]</td><td>[binary data]</td><td>[binary data]</td><td>[binary data]</td><td>[binary data]</td><td>null</td><td>[binary data]</td></tr><tr><td>17686548</td><td>0</td><td>2</td><td>[binary data]</td><td>[binary data]</td><td>[binary data]</td><td>[binary data]</td><td>[binary data]</td><td>null</td><td>[binary data]</td></tr><tr><td>17686549</td><td>11</td><td>28</td><td>[binary data]</td><td>[binary data]</td><td>[binary data]</td><td>[binary data]</td><td>[binary data]</td><td>null</td><td>[binary data]</td></tr><tr><td>17686549</td><td>130</td><td>250</td><td>[binary data]</td><td>[binary data]</td><td>[binary data]</td><td>[binary data]</td><td>[binary data]</td><td>null</td><td>[binary data]</td></tr></tbody></table></div>"
      ],
      "text/plain": [
       "shape: (8, 10)\n",
       "┌────────────┬────────────┬───────────┬───────────┬───┬───────────┬───────────┬────────┬───────────┐\n",
       "│ block_numb ┆ transactio ┆ log_index ┆ transacti ┆ … ┆ topic1    ┆ topic2    ┆ topic3 ┆ data      │\n",
       "│ er         ┆ n_index    ┆ ---       ┆ on_hash   ┆   ┆ ---       ┆ ---       ┆ ---    ┆ ---       │\n",
       "│ ---        ┆ ---        ┆ u32       ┆ ---       ┆   ┆ binary    ┆ binary    ┆ binary ┆ binary    │\n",
       "│ u32        ┆ u32        ┆           ┆ binary    ┆   ┆           ┆           ┆        ┆           │\n",
       "╞════════════╪════════════╪═══════════╪═══════════╪═══╪═══════════╪═══════════╪════════╪═══════════╡\n",
       "│ 17686542   ┆ 0          ┆ 2         ┆ [binary   ┆ … ┆ [binary   ┆ [binary   ┆ null   ┆ [binary   │\n",
       "│            ┆            ┆           ┆ data]     ┆   ┆ data]     ┆ data]     ┆        ┆ data]     │\n",
       "│ 17686543   ┆ 84         ┆ 194       ┆ [binary   ┆ … ┆ [binary   ┆ [binary   ┆ null   ┆ [binary   │\n",
       "│            ┆            ┆           ┆ data]     ┆   ┆ data]     ┆ data]     ┆        ┆ data]     │\n",
       "│ 17686543   ┆ 100        ┆ 218       ┆ [binary   ┆ … ┆ [binary   ┆ [binary   ┆ null   ┆ [binary   │\n",
       "│            ┆            ┆           ┆ data]     ┆   ┆ data]     ┆ data]     ┆        ┆ data]     │\n",
       "│ 17686545   ┆ 13         ┆ 33        ┆ [binary   ┆ … ┆ [binary   ┆ [binary   ┆ null   ┆ [binary   │\n",
       "│            ┆            ┆           ┆ data]     ┆   ┆ data]     ┆ data]     ┆        ┆ data]     │\n",
       "│ 17686546   ┆ 161        ┆ 215       ┆ [binary   ┆ … ┆ [binary   ┆ [binary   ┆ null   ┆ [binary   │\n",
       "│            ┆            ┆           ┆ data]     ┆   ┆ data]     ┆ data]     ┆        ┆ data]     │\n",
       "│ 17686548   ┆ 0          ┆ 2         ┆ [binary   ┆ … ┆ [binary   ┆ [binary   ┆ null   ┆ [binary   │\n",
       "│            ┆            ┆           ┆ data]     ┆   ┆ data]     ┆ data]     ┆        ┆ data]     │\n",
       "│ 17686549   ┆ 11         ┆ 28        ┆ [binary   ┆ … ┆ [binary   ┆ [binary   ┆ null   ┆ [binary   │\n",
       "│            ┆            ┆           ┆ data]     ┆   ┆ data]     ┆ data]     ┆        ┆ data]     │\n",
       "│ 17686549   ┆ 130        ┆ 250       ┆ [binary   ┆ … ┆ [binary   ┆ [binary   ┆ null   ┆ [binary   │\n",
       "│            ┆            ┆           ┆ data]     ┆   ┆ data]     ┆ data]     ┆        ┆ data]     │\n",
       "└────────────┴────────────┴───────────┴───────────┴───┴───────────┴───────────┴────────┴───────────┘"
      ]
     },
     "execution_count": 5,
     "metadata": {},
     "output_type": "execute_result"
    }
   ],
   "source": [
    "mint_event_bytes = Web3.to_bytes(0x7a53080ba414158be7ec69b987b5fb7d07dee101fe85488f0853ae16239d0bde)\n",
    "burn_event_bytes = Web3.to_bytes(0x0c396cd989a39f4459b5fa1aed6a9a8dcdbc45908acfd67e028cd568da98982c)\n",
    "swap_event_bytes = Web3.to_bytes(0xc42079f94a6350d7e6235f29174924f928cc2ac818eb64fed8004e115fbcca67)\n",
    "\n",
    "event_df = df.filter((pl.col(\"topic0\") == mint_event_bytes) | (pl.col(\"topic0\") == burn_event_bytes) | (pl.col(\"topic0\") == swap_event_bytes))\n",
    "print(\"All events: \", event_df.shape)\n",
    "print(\"Mint events: \", event_df.filter(pl.col(\"topic0\") == mint_event_bytes).shape)\n",
    "print(\"Burn events: \", event_df.filter(pl.col(\"topic0\") == burn_event_bytes).shape)\n",
    "print(\"Swap events: \", event_df.filter(pl.col(\"topic0\") == swap_event_bytes).shape)\n",
    "event_df.head(8)"
   ]
  },
  {
   "cell_type": "code",
   "execution_count": 6,
   "metadata": {},
   "outputs": [],
   "source": [
    "mint_decode_types = [\"address\", \"uint128\", \"uint256\", \"uint256\"]\n",
    "burn_decode_types = [\"uint128\", \"uint256\", \"uint256\"]\n",
    "swap_decode_types = [\"int256\", \"int256\", \"uint160\", \"uint128\", \"int24\"]"
   ]
  },
  {
   "cell_type": "markdown",
   "metadata": {},
   "source": [
    "## Instantiate Contracts"
   ]
  },
  {
   "cell_type": "code",
   "execution_count": 7,
   "metadata": {},
   "outputs": [
    {
     "name": "stdout",
     "output_type": "stream",
     "text": [
      "0x0165878A594ca255338adfa4d48449f69242Eb8F\tMockERC20\n"
     ]
    },
    {
     "name": "stdout",
     "output_type": "stream",
     "text": [
      "0x5FbDB2315678afecb367f032d93F642f64180aa3\tPoolManager\n",
      "0xCf7Ed3AccA5a467e9e704C703E8D87F634fB0Fc9\tPoolModifyPositionTest\n",
      "0xDc64a140Aa3E981100a9becA4E685f962f0cF6C9\tPoolSwapTest\n",
      "0x5FC8d32690cc91D4c39d9d3abcBD16989F875707\tPoolDonateTest\n",
      "0xe7f1725E7734CE288F8367e1Bb143E90bb3F0512\tAtomicArb\n",
      "0xC02aaA39b223FE8D0A0e5C4F27eAD9083C756Cc2\tMock WETH\n",
      "0xA0b86991c6218b36c1d19D4a2e9Eb0cE3606eB48\tMock USDC\n"
     ]
    }
   ],
   "source": [
    "with open(\"../../broadcast/Anvil.s.sol/31337/run-latest.json\", \"r\") as f:\n",
    "    deployment = json.load(f)\n",
    "\n",
    "contract_creates = list(filter(lambda txn: txn['transactionType'] == 'CREATE', deployment['transactions']))\n",
    "\n",
    "contract_names = [\n",
    "    'MockERC20',\n",
    "    'PoolManager',\n",
    "    'PoolModifyPositionTest',\n",
    "    'PoolSwapTest',\n",
    "    'PoolDonateTest',\n",
    "    'AtomicArb'\n",
    "]\n",
    "\n",
    "contracts = {}\n",
    "for contract_name in contract_names:\n",
    "    with open(f\"../../out/{contract_name}.sol/{contract_name}.json\", \"r\") as f:\n",
    "        abi = json.load(f)['abi']\n",
    "\n",
    "    address = list(filter(lambda txn: txn['contractName'] == contract_name, contract_creates))[0]['contractAddress']\n",
    "    print(f\"{address}\\t{contract_name}\")\n",
    "    contracts[contract_name] = anvil.eth.contract(address=address, abi=abi)\n",
    "\n",
    "with open(f\"../../out/MockERC20.sol/MockERC20.json\", \"r\") as f:\n",
    "    abi = json.load(f)['abi']\n",
    "\n",
    "# WETH\n",
    "contracts['MWETH'] = anvil.eth.contract(address=\"0xC02aaA39b223FE8D0A0e5C4F27eAD9083C756Cc2\", abi=abi)\n",
    "print(f\"{contracts['MWETH'].address}\\tMock WETH\")\n",
    "\n",
    "# USDC\n",
    "contracts['MUSDC'] = anvil.eth.contract(address=\"0xA0b86991c6218b36c1d19D4a2e9Eb0cE3606eB48\", abi=abi)\n",
    "print(f\"{contracts['MUSDC'].address}\\tMock USDC\")\n"
   ]
  },
  {
   "cell_type": "markdown",
   "metadata": {},
   "source": [
    "Define Pool Keys\n"
   ]
  },
  {
   "cell_type": "code",
   "execution_count": 8,
   "metadata": {},
   "outputs": [
    {
     "name": "stdout",
     "output_type": "stream",
     "text": [
      "0xA0b86991c6218b36c1d19D4a2e9Eb0cE3606eB48 0xC02aaA39b223FE8D0A0e5C4F27eAD9083C756Cc2\n"
     ]
    }
   ],
   "source": [
    "currency0 = contracts['MUSDC'].address if anvil.to_int(hexstr=contracts['MUSDC'].address) < anvil.to_int(hexstr=contracts['MWETH'].address) else contracts['MWETH'].address\n",
    "currency1 = contracts['MUSDC'].address if currency0 == contracts['MWETH'].address else contracts['MWETH'].address\n",
    "print(currency0, currency1)\n",
    "\n",
    "key0 = {\n",
    "    \"currency0\": currency0,\n",
    "    \"currency1\": currency1,\n",
    "    \"fee\": 500,\n",
    "    \"tickSpacing\": 10,\n",
    "    \"hooks\": \"0x0000000000000000000000000000000000000000\"\n",
    "}\n",
    "\n",
    "key1 = {\n",
    "    \"currency0\": currency0,\n",
    "    \"currency1\": currency1,\n",
    "    \"fee\": 500,\n",
    "    \"tickSpacing\": 10,\n",
    "    \"hooks\": \"0x0c00000000000000000000000000000000000001\"\n",
    "}"
   ]
  },
  {
   "cell_type": "markdown",
   "metadata": {},
   "source": [
    "Initialize Pools\n",
    "\n",
    "* Take the first `Mint()` event to get `sqrtPriceRatioX96`"
   ]
  },
  {
   "cell_type": "code",
   "execution_count": 9,
   "metadata": {},
   "outputs": [
    {
     "data": {
      "text/plain": [
       "HexBytes('0x4f6430b68ebc40ef6d63b5f5785d2ba586b1f14e05471149fc50961b6fb2db78')"
      ]
     },
     "execution_count": 9,
     "metadata": {},
     "output_type": "execute_result"
    }
   ],
   "source": [
    "mint_df = event_df.filter(pl.col(\"topic0\") == mint_event_bytes)\n",
    "(_, amount, amount0, amount1) = decode_abi(mint_decode_types, mint_df[0, 'data'])\n",
    "\n",
    "tickLower = decode_abi([\"int24\"], mint_df[0, 'topic2'])\n",
    "tickUpper = decode_abi([\"int24\"], mint_df[0, 'topic3'])\n",
    "\n",
    "sqrtPriceX96 = math.floor(math.sqrt(amount1/amount0)*2**96)\n",
    "\n",
    "# initialize pools\n",
    "contracts['PoolManager'].functions['initialize'](\n",
    "    key0, sqrtPriceX96\n",
    ").transact(default_txn)\n",
    "\n",
    "contracts['PoolManager'].functions['initialize'](\n",
    "    key1, sqrtPriceX96\n",
    ").transact(default_txn)\n"
   ]
  },
  {
   "cell_type": "markdown",
   "metadata": {},
   "source": [
    "## Simulation"
   ]
  },
  {
   "cell_type": "code",
   "execution_count": 16,
   "metadata": {},
   "outputs": [],
   "source": [
    "def modifyPosition(poolKey, tickLower, tickUpper, liquidityDelta):\n",
    "    positionParams = {\n",
    "        \"tickLower\": tickLower,\n",
    "        \"tickUpper\": tickUpper,\n",
    "        \"liquidityDelta\": liquidityDelta,\n",
    "    }\n",
    "    txn_hash = contracts['PoolModifyPositionTest'].functions[\"modifyPosition\"](\n",
    "        poolKey,\n",
    "        positionParams\n",
    "    ).transact(default_txn)\n",
    "    return anvil.eth.wait_for_transaction_receipt(txn_hash)\n",
    "    \n",
    "def swap(poolKey, zeroForOne, amountSpecified):\n",
    "    settings = {\n",
    "        \"withdrawTokens\": True,\n",
    "        \"settleUsingTransfer\": True\n",
    "    }\n",
    "    params = {\n",
    "        \"zeroForOne\": zeroForOne,\n",
    "        \"amountSpecified\": amountSpecified,\n",
    "        \"sqrtPriceLimitX96\": MIN_PRICE_LIMIT if zeroForOne else MAX_PRICE_LIMIT,\n",
    "    }\n",
    "    txn_hash = contracts['PoolSwapTest'].functions['swap'](\n",
    "        poolKey,\n",
    "        params,\n",
    "        settings\n",
    "    ).transact(default_txn)\n",
    "    return anvil.eth.wait_for_transaction_receipt(txn_hash)\n",
    "\n",
    "def get_arb_tx(key0, zeroForOne, amount, key1, takeToken0):\n",
    "    return contracts['AtomicArb'].functions['arb'](\n",
    "        key0,\n",
    "        {\n",
    "            \"zeroForOne\": zeroForOne,\n",
    "            \"amountSpecified\": amount,\n",
    "            \"sqrtPriceLimitX96\": MIN_PRICE_LIMIT if zeroForOne else MAX_PRICE_LIMIT,\n",
    "        },\n",
    "        key1,\n",
    "        takeToken0\n",
    "    )"
   ]
  },
  {
   "cell_type": "markdown",
   "metadata": {},
   "source": [
    "Provision Liquidity to Primary Pool"
   ]
  },
  {
   "cell_type": "code",
   "execution_count": 11,
   "metadata": {},
   "outputs": [
    {
     "name": "stdout",
     "output_type": "stream",
     "text": [
      "WETH balance change:  -2284.92577313695\n",
      "USDC balance change:  -4376509.783192\n"
     ]
    }
   ],
   "source": [
    "# full range provision, to seed liquidity for initial swaps\n",
    "before = contracts['MWETH'].functions['balanceOf'](account.address).call()\n",
    "before_usdc = contracts['MUSDC'].functions['balanceOf'](account.address).call()\n",
    "modifyPosition(key0, -887270, 887270, 10**17)\n",
    "after = contracts['MWETH'].functions['balanceOf'](account.address).call()\n",
    "after_usdc = contracts['MUSDC'].functions['balanceOf'](account.address).call()\n",
    "print(\"WETH balance change: \", (after - before)/1e18)\n",
    "print(\"USDC balance change: \", (after_usdc - before_usdc)/1e6)"
   ]
  },
  {
   "cell_type": "code",
   "execution_count": 12,
   "metadata": {},
   "outputs": [
    {
     "name": "stdout",
     "output_type": "stream",
     "text": [
      "WETH balance change:  -22.849257731369498\n",
      "USDC balance change:  -43765.097832\n"
     ]
    }
   ],
   "source": [
    "# full range provision, to seed liquidity for initial swaps\n",
    "before = contracts['MWETH'].functions['balanceOf'](account.address).call()\n",
    "before_usdc = contracts['MUSDC'].functions['balanceOf'](account.address).call()\n",
    "modifyPosition(key1, -887270, 887270, 10**15)\n",
    "after = contracts['MWETH'].functions['balanceOf'](account.address).call()\n",
    "after_usdc = contracts['MUSDC'].functions['balanceOf'](account.address).call()\n",
    "print(\"WETH balance change: \", (after - before)/1e18)\n",
    "print(\"USDC balance change: \", (after_usdc - before_usdc)/1e6)"
   ]
  },
  {
   "cell_type": "code",
   "execution_count": 13,
   "metadata": {},
   "outputs": [],
   "source": [
    "# loop over the events and simulate the actions against the pools\n",
    "success = 0\n",
    "fails = 0\n",
    "for row in event_df[:50].iter_rows(named=True):\n",
    "    if row['topic0'] == mint_event_bytes:\n",
    "        (sender, amount, amount0, amount1) = decode_abi(mint_decode_types, row['data'])\n",
    "        owner = decode_abi([\"address\"], row['topic1'])\n",
    "        (tickLower,) = decode_abi([\"int24\"], row['topic2'])\n",
    "        (tickUpper,) = decode_abi([\"int24\"], row['topic3'])\n",
    "        txn = modifyPosition(key0, tickLower, tickUpper, amount)\n",
    "        if txn['status'] == 1:\n",
    "            success += 1\n",
    "        else:\n",
    "            fails += 1\n",
    "    elif row['topic0'] == burn_event_bytes:\n",
    "        (amount, amount0, amount1) = decode_abi(burn_decode_types, row['data'])\n",
    "        owner = decode_abi([\"address\"], row['topic1'])\n",
    "        (tickLower,) = decode_abi([\"int24\"], row['topic2'])\n",
    "        (tickUpper,) = decode_abi([\"int24\"], row['topic3'])\n",
    "        # TODO: figure out how to remove liquidity, since the burns arent 1:1 with the mints\n",
    "        # modifyPosition(key0, tickLower, tickUpper, -amount)\n",
    "    elif row['topic0'] == swap_event_bytes:\n",
    "        (amount0, amount1, sqrtPriceX96, liquidity, tick) = decode_abi(swap_decode_types, row['data'])\n",
    "        sender = decode_abi([\"address\"], row['topic1'])\n",
    "        recipient = decode_abi([\"address\"], row['topic2'])\n",
    "        # when amount1 < 0, the user traded token0 for token1\n",
    "        zeroForOne = True if amount1 < 0 else False\n",
    "        amountSpecified = amount0 if zeroForOne else amount1\n",
    "        txn = swap(key0, zeroForOne=zeroForOne, amountSpecified=amountSpecified)\n",
    "        if txn['status'] == 1:\n",
    "            success += 1\n",
    "        else:\n",
    "            fails += 1"
   ]
  },
  {
   "cell_type": "code",
   "execution_count": 31,
   "metadata": {},
   "outputs": [
    {
     "data": {
      "text/plain": [
       "AttributeDict({'transactionHash': HexBytes('0x2ef38212312f32ccfff0e33c6b8dd46f70bf4436ebc6db582e95c99f6ddbd4c0'),\n",
       " 'transactionIndex': 0,\n",
       " 'blockHash': HexBytes('0x23baad9423837766cf039b94b14ffed74dbfbfc975ead10fac48ec0c4a19ae79'),\n",
       " 'blockNumber': 59,\n",
       " 'from': '0xf39Fd6e51aad88F6F4ce6aB8827279cffFb92266',\n",
       " 'to': '0xDc64a140Aa3E981100a9becA4E685f962f0cF6C9',\n",
       " 'cumulativeGasUsed': 190456,\n",
       " 'gasUsed': 190456,\n",
       " 'contractAddress': None,\n",
       " 'logs': [AttributeDict({'address': '0x5FbDB2315678afecb367f032d93F642f64180aa3',\n",
       "   'topics': [HexBytes('0x40e9cecb9f5f1f1c5b9c97dec2917b7ee92e57ba5563708daca94dd84ad7112f'),\n",
       "    HexBytes('0x4f88f7c99022eace4740c6898f59ce6a2e798a1e64ce54589720b7153eb224a7'),\n",
       "    HexBytes('0x000000000000000000000000dc64a140aa3e981100a9beca4e685f962f0cf6c9')],\n",
       "   'data': HexBytes('0xffffffffffffffffffffffffffffffffffffffffffffffffffffffc236401c920000000000000000000000000000000000000000000000056bc75e2d631000000000000000000000000000000000000000004dc936f2a07489678251f9d10801000000000000000000000000000000000000000000000000016345785d8a0000000000000000000000000000000000000000000000000000000000000003056800000000000000000000000000000000000000000000000000000000000001f4'),\n",
       "   'blockHash': HexBytes('0x23baad9423837766cf039b94b14ffed74dbfbfc975ead10fac48ec0c4a19ae79'),\n",
       "   'blockNumber': 59,\n",
       "   'transactionHash': HexBytes('0x2ef38212312f32ccfff0e33c6b8dd46f70bf4436ebc6db582e95c99f6ddbd4c0'),\n",
       "   'transactionIndex': 0,\n",
       "   'logIndex': 0,\n",
       "   'transactionLogIndex': '0x0',\n",
       "   'removed': False}),\n",
       "  AttributeDict({'address': '0xC02aaA39b223FE8D0A0e5C4F27eAD9083C756Cc2',\n",
       "   'topics': [HexBytes('0xddf252ad1be2c89b69c2b068fc378daa952ba7f163c4a11628f55a4df523b3ef'),\n",
       "    HexBytes('0x000000000000000000000000f39fd6e51aad88f6f4ce6ab8827279cfffb92266'),\n",
       "    HexBytes('0x0000000000000000000000005fbdb2315678afecb367f032d93f642f64180aa3')],\n",
       "   'data': HexBytes('0x0000000000000000000000000000000000000000000000056bc75e2d63100000'),\n",
       "   'blockHash': HexBytes('0x23baad9423837766cf039b94b14ffed74dbfbfc975ead10fac48ec0c4a19ae79'),\n",
       "   'blockNumber': 59,\n",
       "   'transactionHash': HexBytes('0x2ef38212312f32ccfff0e33c6b8dd46f70bf4436ebc6db582e95c99f6ddbd4c0'),\n",
       "   'transactionIndex': 0,\n",
       "   'logIndex': 1,\n",
       "   'transactionLogIndex': '0x1',\n",
       "   'removed': False}),\n",
       "  AttributeDict({'address': '0xA0b86991c6218b36c1d19D4a2e9Eb0cE3606eB48',\n",
       "   'topics': [HexBytes('0xddf252ad1be2c89b69c2b068fc378daa952ba7f163c4a11628f55a4df523b3ef'),\n",
       "    HexBytes('0x0000000000000000000000005fbdb2315678afecb367f032d93f642f64180aa3'),\n",
       "    HexBytes('0x000000000000000000000000f39fd6e51aad88f6f4ce6ab8827279cfffb92266')],\n",
       "   'data': HexBytes('0x0000000000000000000000000000000000000000000000000000003dc9bfe36e'),\n",
       "   'blockHash': HexBytes('0x23baad9423837766cf039b94b14ffed74dbfbfc975ead10fac48ec0c4a19ae79'),\n",
       "   'blockNumber': 59,\n",
       "   'transactionHash': HexBytes('0x2ef38212312f32ccfff0e33c6b8dd46f70bf4436ebc6db582e95c99f6ddbd4c0'),\n",
       "   'transactionIndex': 0,\n",
       "   'logIndex': 2,\n",
       "   'transactionLogIndex': '0x2',\n",
       "   'removed': False})],\n",
       " 'status': 1,\n",
       " 'logsBloom': HexBytes('0x000000000000000000000000000000000000000000000000000000000000000000000000000000004000000000000000020000000c0000000000000000000000000000000000000008000008000000000000000000000021000000000000000000000040000000000000000100800000000004000000000000000011000000000000000000000000000000000000000000000000010000000000000200000000000000000000200000000000080000000000000000000000000000000000000000000042400000200000000000000000000000002008000000000000000000000000200000000000004000000010000000000000000000000000000000000000'),\n",
       " 'type': 2,\n",
       " 'effectiveGasPrice': 2000533474})"
      ]
     },
     "execution_count": 31,
     "metadata": {},
     "output_type": "execute_result"
    }
   ],
   "source": [
    "swap(key0, zeroForOne=False, amountSpecified=10**20)"
   ]
  },
  {
   "cell_type": "code",
   "execution_count": 33,
   "metadata": {},
   "outputs": [
    {
     "data": {
      "text/plain": [
       "HexBytes('0xe85fa7b241b80b5f4d9b9f9eece9e9a83224b8ff1c813d11e6d5b46fa7f56de3')"
      ]
     },
     "execution_count": 33,
     "metadata": {},
     "output_type": "execute_result"
    }
   ],
   "source": [
    "arb_tx = get_arb_tx(key1, True, 100, key0, True)\n",
    "arb_tx.transact(default_txn)"
   ]
  },
  {
   "cell_type": "code",
   "execution_count": null,
   "metadata": {},
   "outputs": [],
   "source": []
  }
 ],
 "metadata": {
  "kernelspec": {
   "display_name": "v4",
   "language": "python",
   "name": "python3"
  },
  "language_info": {
   "codemirror_mode": {
    "name": "ipython",
    "version": 3
   },
   "file_extension": ".py",
   "mimetype": "text/x-python",
   "name": "python",
   "nbconvert_exporter": "python",
   "pygments_lexer": "ipython3",
   "version": "3.11.4"
  },
  "orig_nbformat": 4
 },
 "nbformat": 4,
 "nbformat_minor": 2
}
