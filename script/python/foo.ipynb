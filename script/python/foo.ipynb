{
 "cells": [
  {
   "cell_type": "markdown",
   "metadata": {},
   "source": [
    "## Imports, Configs, and Constants"
   ]
  },
  {
   "cell_type": "code",
   "execution_count": 1,
   "metadata": {},
   "outputs": [],
   "source": [
    "import polars as pl\n",
    "import json\n",
    "from web3 import Web3\n",
    "from eth_abi import decode as decode_abi\n",
    "from eth_account import Account\n",
    "import math\n",
    "\n",
    "mainnet = Web3(Web3.HTTPProvider(\"https://eth.llamarpc.com\"))\n",
    "anvil = Web3(Web3.HTTPProvider(\"http://localhost:8545\"))\n",
    "\n",
    "Account.enable_unaudited_hdwallet_features()\n",
    "account = anvil.eth.account.from_mnemonic(\n",
    "    \"test test test test test test test test test test test junk\"\n",
    ")\n",
    "\n",
    "default_txn = {\n",
    "    'from': account.address,\n",
    "    'gas': 2_000_000,\n",
    "    'maxFeePerGas': anvil.to_wei(10, 'gwei'),\n",
    "    'maxPriorityFeePerGas': anvil.to_wei(2, 'gwei'),\n",
    "}"
   ]
  },
  {
   "cell_type": "markdown",
   "metadata": {},
   "source": [
    "Uni v3 ETH/USDC 5bps Logs"
   ]
  },
  {
   "cell_type": "code",
   "execution_count": 2,
   "metadata": {},
   "outputs": [
    {
     "name": "stdout",
     "output_type": "stream",
     "text": [
      "shape: (5, 10)\n",
      "┌────────────┬────────────┬───────────┬───────────┬───┬───────────┬───────────┬────────┬───────────┐\n",
      "│ block_numb ┆ transactio ┆ log_index ┆ transacti ┆ … ┆ topic1    ┆ topic2    ┆ topic3 ┆ data      │\n",
      "│ er         ┆ n_index    ┆ ---       ┆ on_hash   ┆   ┆ ---       ┆ ---       ┆ ---    ┆ ---       │\n",
      "│ ---        ┆ ---        ┆ u32       ┆ ---       ┆   ┆ binary    ┆ binary    ┆ binary ┆ binary    │\n",
      "│ u32        ┆ u32        ┆           ┆ binary    ┆   ┆           ┆           ┆        ┆           │\n",
      "╞════════════╪════════════╪═══════════╪═══════════╪═══╪═══════════╪═══════════╪════════╪═══════════╡\n",
      "│ 17780001   ┆ 117        ┆ 411       ┆ [binary   ┆ … ┆ [binary   ┆ [binary   ┆ null   ┆ [binary   │\n",
      "│            ┆            ┆           ┆ data]     ┆   ┆ data]     ┆ data]     ┆        ┆ data]     │\n",
      "│ 17780006   ┆ 109        ┆ 311       ┆ [binary   ┆ … ┆ [binary   ┆ [binary   ┆ null   ┆ [binary   │\n",
      "│            ┆            ┆           ┆ data]     ┆   ┆ data]     ┆ data]     ┆        ┆ data]     │\n",
      "│ 17780008   ┆ 13         ┆ 83        ┆ [binary   ┆ … ┆ [binary   ┆ [binary   ┆ null   ┆ [binary   │\n",
      "│            ┆            ┆           ┆ data]     ┆   ┆ data]     ┆ data]     ┆        ┆ data]     │\n",
      "│ 17780009   ┆ 71         ┆ 171       ┆ [binary   ┆ … ┆ [binary   ┆ [binary   ┆ null   ┆ [binary   │\n",
      "│            ┆            ┆           ┆ data]     ┆   ┆ data]     ┆ data]     ┆        ┆ data]     │\n",
      "│ 17780018   ┆ 65         ┆ 203       ┆ [binary   ┆ … ┆ [binary   ┆ [binary   ┆ null   ┆ [binary   │\n",
      "│            ┆            ┆           ┆ data]     ┆   ┆ data]     ┆ data]     ┆        ┆ data]     │\n",
      "└────────────┴────────────┴───────────┴───────────┴───┴───────────┴───────────┴────────┴───────────┘\n",
      "['block_number', 'transaction_index', 'log_index', 'transaction_hash', 'contract_address', 'topic0', 'topic1', 'topic2', 'topic3', 'data']\n"
     ]
    }
   ],
   "source": [
    "df = pl.read_parquet(\"../../sample.parquet\")\n",
    "\n",
    "print(df.head())\n",
    "print(df.columns)"
   ]
  },
  {
   "cell_type": "markdown",
   "metadata": {},
   "source": [
    "Get topic hashes for desired logs: Mint, Burn, and Swap"
   ]
  },
  {
   "cell_type": "code",
   "execution_count": 3,
   "metadata": {},
   "outputs": [
    {
     "name": "stdout",
     "output_type": "stream",
     "text": [
      "0x7a53080ba414158be7ec69b987b5fb7d07dee101fe85488f0853ae16239d0bde\n",
      "0x0c396cd989a39f4459b5fa1aed6a9a8dcdbc45908acfd67e028cd568da98982c\n",
      "0xc42079f94a6350d7e6235f29174924f928cc2ac818eb64fed8004e115fbcca67\n"
     ]
    }
   ],
   "source": [
    "!cast sig-event \"Mint(address sender, address indexed owner, int24 indexed tickLower, int24 indexed tickUpper, uint128 amount, uint256 amount0, uint256 amount1)\"\n",
    "!cast sig-event \"Burn(address indexed owner, int24 indexed tickLower, int24 indexed tickUpper, uint128 amount, uint256 amount0, uint256 amount1)\"\n",
    "!cast sig-event \"Swap(address indexed sender, address indexed recipient, int256 amount0, int256 amount1, uint160 sqrtPriceX96, uint128 liquidity, int24 tick)\""
   ]
  },
  {
   "cell_type": "code",
   "execution_count": 4,
   "metadata": {},
   "outputs": [
    {
     "name": "stdout",
     "output_type": "stream",
     "text": [
      "All events:  (246, 10)\n",
      "Mint events:  (4, 10)\n",
      "Burn events:  (4, 10)\n",
      "Swap events:  (238, 10)\n"
     ]
    },
    {
     "data": {
      "text/html": [
       "<div><style>\n",
       ".dataframe > thead > tr > th,\n",
       ".dataframe > tbody > tr > td {\n",
       "  text-align: right;\n",
       "}\n",
       "</style>\n",
       "<small>shape: (8, 10)</small><table border=\"1\" class=\"dataframe\"><thead><tr><th>block_number</th><th>transaction_index</th><th>log_index</th><th>transaction_hash</th><th>contract_address</th><th>topic0</th><th>topic1</th><th>topic2</th><th>topic3</th><th>data</th></tr><tr><td>u32</td><td>u32</td><td>u32</td><td>binary</td><td>binary</td><td>binary</td><td>binary</td><td>binary</td><td>binary</td><td>binary</td></tr></thead><tbody><tr><td>17780001</td><td>117</td><td>411</td><td>[binary data]</td><td>[binary data]</td><td>[binary data]</td><td>[binary data]</td><td>[binary data]</td><td>null</td><td>[binary data]</td></tr><tr><td>17780006</td><td>109</td><td>311</td><td>[binary data]</td><td>[binary data]</td><td>[binary data]</td><td>[binary data]</td><td>[binary data]</td><td>null</td><td>[binary data]</td></tr><tr><td>17780008</td><td>13</td><td>83</td><td>[binary data]</td><td>[binary data]</td><td>[binary data]</td><td>[binary data]</td><td>[binary data]</td><td>null</td><td>[binary data]</td></tr><tr><td>17780009</td><td>71</td><td>171</td><td>[binary data]</td><td>[binary data]</td><td>[binary data]</td><td>[binary data]</td><td>[binary data]</td><td>null</td><td>[binary data]</td></tr><tr><td>17780018</td><td>65</td><td>203</td><td>[binary data]</td><td>[binary data]</td><td>[binary data]</td><td>[binary data]</td><td>[binary data]</td><td>null</td><td>[binary data]</td></tr><tr><td>17780021</td><td>1</td><td>14</td><td>[binary data]</td><td>[binary data]</td><td>[binary data]</td><td>[binary data]</td><td>[binary data]</td><td>null</td><td>[binary data]</td></tr><tr><td>17780021</td><td>2</td><td>21</td><td>[binary data]</td><td>[binary data]</td><td>[binary data]</td><td>[binary data]</td><td>[binary data]</td><td>null</td><td>[binary data]</td></tr><tr><td>17780022</td><td>157</td><td>361</td><td>[binary data]</td><td>[binary data]</td><td>[binary data]</td><td>[binary data]</td><td>[binary data]</td><td>null</td><td>[binary data]</td></tr></tbody></table></div>"
      ],
      "text/plain": [
       "shape: (8, 10)\n",
       "┌────────────┬────────────┬───────────┬───────────┬───┬───────────┬───────────┬────────┬───────────┐\n",
       "│ block_numb ┆ transactio ┆ log_index ┆ transacti ┆ … ┆ topic1    ┆ topic2    ┆ topic3 ┆ data      │\n",
       "│ er         ┆ n_index    ┆ ---       ┆ on_hash   ┆   ┆ ---       ┆ ---       ┆ ---    ┆ ---       │\n",
       "│ ---        ┆ ---        ┆ u32       ┆ ---       ┆   ┆ binary    ┆ binary    ┆ binary ┆ binary    │\n",
       "│ u32        ┆ u32        ┆           ┆ binary    ┆   ┆           ┆           ┆        ┆           │\n",
       "╞════════════╪════════════╪═══════════╪═══════════╪═══╪═══════════╪═══════════╪════════╪═══════════╡\n",
       "│ 17780001   ┆ 117        ┆ 411       ┆ [binary   ┆ … ┆ [binary   ┆ [binary   ┆ null   ┆ [binary   │\n",
       "│            ┆            ┆           ┆ data]     ┆   ┆ data]     ┆ data]     ┆        ┆ data]     │\n",
       "│ 17780006   ┆ 109        ┆ 311       ┆ [binary   ┆ … ┆ [binary   ┆ [binary   ┆ null   ┆ [binary   │\n",
       "│            ┆            ┆           ┆ data]     ┆   ┆ data]     ┆ data]     ┆        ┆ data]     │\n",
       "│ 17780008   ┆ 13         ┆ 83        ┆ [binary   ┆ … ┆ [binary   ┆ [binary   ┆ null   ┆ [binary   │\n",
       "│            ┆            ┆           ┆ data]     ┆   ┆ data]     ┆ data]     ┆        ┆ data]     │\n",
       "│ 17780009   ┆ 71         ┆ 171       ┆ [binary   ┆ … ┆ [binary   ┆ [binary   ┆ null   ┆ [binary   │\n",
       "│            ┆            ┆           ┆ data]     ┆   ┆ data]     ┆ data]     ┆        ┆ data]     │\n",
       "│ 17780018   ┆ 65         ┆ 203       ┆ [binary   ┆ … ┆ [binary   ┆ [binary   ┆ null   ┆ [binary   │\n",
       "│            ┆            ┆           ┆ data]     ┆   ┆ data]     ┆ data]     ┆        ┆ data]     │\n",
       "│ 17780021   ┆ 1          ┆ 14        ┆ [binary   ┆ … ┆ [binary   ┆ [binary   ┆ null   ┆ [binary   │\n",
       "│            ┆            ┆           ┆ data]     ┆   ┆ data]     ┆ data]     ┆        ┆ data]     │\n",
       "│ 17780021   ┆ 2          ┆ 21        ┆ [binary   ┆ … ┆ [binary   ┆ [binary   ┆ null   ┆ [binary   │\n",
       "│            ┆            ┆           ┆ data]     ┆   ┆ data]     ┆ data]     ┆        ┆ data]     │\n",
       "│ 17780022   ┆ 157        ┆ 361       ┆ [binary   ┆ … ┆ [binary   ┆ [binary   ┆ null   ┆ [binary   │\n",
       "│            ┆            ┆           ┆ data]     ┆   ┆ data]     ┆ data]     ┆        ┆ data]     │\n",
       "└────────────┴────────────┴───────────┴───────────┴───┴───────────┴───────────┴────────┴───────────┘"
      ]
     },
     "execution_count": 4,
     "metadata": {},
     "output_type": "execute_result"
    }
   ],
   "source": [
    "mint_event_bytes = Web3.to_bytes(0x7a53080ba414158be7ec69b987b5fb7d07dee101fe85488f0853ae16239d0bde)\n",
    "burn_event_bytes = Web3.to_bytes(0x0c396cd989a39f4459b5fa1aed6a9a8dcdbc45908acfd67e028cd568da98982c)\n",
    "swap_event_bytes = Web3.to_bytes(0xc42079f94a6350d7e6235f29174924f928cc2ac818eb64fed8004e115fbcca67)\n",
    "\n",
    "event_df = df.filter((pl.col(\"topic0\") == mint_event_bytes) | (pl.col(\"topic0\") == burn_event_bytes) | (pl.col(\"topic0\") == swap_event_bytes))\n",
    "print(\"All events: \", event_df.shape)\n",
    "print(\"Mint events: \", event_df.filter(pl.col(\"topic0\") == mint_event_bytes).shape)\n",
    "print(\"Burn events: \", event_df.filter(pl.col(\"topic0\") == burn_event_bytes).shape)\n",
    "print(\"Swap events: \", event_df.filter(pl.col(\"topic0\") == swap_event_bytes).shape)\n",
    "event_df.head(8)"
   ]
  },
  {
   "cell_type": "code",
   "execution_count": 5,
   "metadata": {},
   "outputs": [],
   "source": [
    "mint_decode_types = [\"address\", \"uint128\", \"uint256\", \"uint256\"]\n",
    "burn_decode_types = [\"uint128\", \"uint256\", \"uint256\"]\n",
    "swap_decode_types = [\"int256\", \"int256\", \"uint160\", \"uint128\", \"int24\"]"
   ]
  },
  {
   "cell_type": "markdown",
   "metadata": {},
   "source": [
    "## Instantiate Contracts"
   ]
  },
  {
   "cell_type": "code",
   "execution_count": 6,
   "metadata": {},
   "outputs": [
    {
     "name": "stdout",
     "output_type": "stream",
     "text": [
      "0x0165878A594ca255338adfa4d48449f69242Eb8F\tMock WETH\n",
      "0xa513E6E4b8f2a923D98304ec87F64353C4D5C853\tMock USDC\n",
      "0x5FbDB2315678afecb367f032d93F642f64180aa3\tPoolManager\n",
      "0xCf7Ed3AccA5a467e9e704C703E8D87F634fB0Fc9\tPoolModifyPositionTest\n",
      "0xDc64a140Aa3E981100a9becA4E685f962f0cF6C9\tPoolSwapTest\n",
      "0x5FC8d32690cc91D4c39d9d3abcBD16989F875707\tPoolDonateTest\n"
     ]
    }
   ],
   "source": [
    "with open(\"../../broadcast/Anvil.s.sol/31337/run-latest.json\", \"r\") as f:\n",
    "    deployment = json.load(f)\n",
    "\n",
    "contract_creates = list(filter(lambda txn: txn['transactionType'] == 'CREATE', deployment['transactions']))\n",
    "\n",
    "contract_names = [\n",
    "    'MockERC20',\n",
    "    'PoolManager',\n",
    "    'PoolModifyPositionTest',\n",
    "    'PoolSwapTest',\n",
    "    'PoolDonateTest',\n",
    "]\n",
    "\n",
    "contracts = {}\n",
    "for contract_name in contract_names:\n",
    "    with open(f\"../../out/{contract_name}.sol/{contract_name}.json\", \"r\") as f:\n",
    "        abi = json.load(f)['abi']\n",
    "    \n",
    "    if contract_name == 'MockERC20':\n",
    "        # WETH\n",
    "        address = list(\n",
    "            filter(\n",
    "                lambda txn: txn['contractName'] == contract_name and txn['arguments'][0] == 'Mock WETH',\n",
    "                contract_creates\n",
    "            )\n",
    "        )[0]['contractAddress']\n",
    "        print(f\"{address}\\tMock WETH\")\n",
    "        contracts['MWETH'] = anvil.eth.contract(address=address, abi=abi)\n",
    "\n",
    "        # USDC\n",
    "        address = list(\n",
    "            filter(\n",
    "                lambda txn: txn['contractName'] == contract_name and txn['arguments'][0] == 'Mock USDC',\n",
    "                contract_creates\n",
    "            )\n",
    "        )[0]['contractAddress']\n",
    "        print(f\"{address}\\tMock USDC\")\n",
    "        contracts['MUSDC'] = anvil.eth.contract(address=address, abi=abi)\n",
    "    else:\n",
    "        address = list(filter(lambda txn: txn['contractName'] == contract_name, contract_creates))[0]['contractAddress']\n",
    "        print(f\"{address}\\t{contract_name}\")\n",
    "        contracts[contract_name] = anvil.eth.contract(address=address, abi=abi)\n"
   ]
  },
  {
   "cell_type": "markdown",
   "metadata": {},
   "source": [
    "Define Pool Keys\n"
   ]
  },
  {
   "cell_type": "code",
   "execution_count": 7,
   "metadata": {},
   "outputs": [
    {
     "name": "stdout",
     "output_type": "stream",
     "text": [
      "0x0165878A594ca255338adfa4d48449f69242Eb8F 0xa513E6E4b8f2a923D98304ec87F64353C4D5C853\n"
     ]
    }
   ],
   "source": [
    "currency0 = contracts['MUSDC'].address if anvil.to_int(hexstr=contracts['MUSDC'].address) < anvil.to_int(hexstr=contracts['MWETH'].address) else contracts['MWETH'].address\n",
    "currency1 = contracts['MUSDC'].address if currency0 == contracts['MWETH'].address else contracts['MWETH'].address\n",
    "print(currency0, currency1)\n",
    "\n",
    "key0 = {\n",
    "    \"currency0\": currency0,\n",
    "    \"currency1\": currency1,\n",
    "    \"fee\": 3000,\n",
    "    \"tickSpacing\": 60,\n",
    "    \"hooks\": \"0x0000000000000000000000000000000000000000\"\n",
    "}\n",
    "\n",
    "key1 = {\n",
    "    \"currency0\": currency0,\n",
    "    \"currency1\": currency1,\n",
    "    \"fee\": 3000,\n",
    "    \"tickSpacing\": 60,\n",
    "    \"hooks\": \"0x0c00000000000000000000000000000000000001\"\n",
    "}"
   ]
  },
  {
   "cell_type": "markdown",
   "metadata": {},
   "source": [
    "Initialize Pools\n",
    "\n",
    "* Take the first `Mint()` event to get `sqrtPriceRatioX96`"
   ]
  },
  {
   "cell_type": "code",
   "execution_count": 8,
   "metadata": {},
   "outputs": [
    {
     "data": {
      "text/plain": [
       "HexBytes('0xfeec73e6ff9076042b1a7285d0ffe0b33baeb98c6b841345aba8a825a17560cb')"
      ]
     },
     "execution_count": 8,
     "metadata": {},
     "output_type": "execute_result"
    }
   ],
   "source": [
    "mint_df = event_df.filter(pl.col(\"topic0\") == mint_event_bytes)\n",
    "(_, amount, amount0, amount1) = decode_abi(mint_decode_types, mint_df[0, 'data'])\n",
    "\n",
    "tickLower = decode_abi([\"int24\"], mint_df[0, 'topic2'])\n",
    "tickUpper = decode_abi([\"int24\"], mint_df[0, 'topic3'])\n",
    "\n",
    "sqrtPriceX96 = math.floor(math.sqrt(amount1/amount0)*2**96)\n",
    "\n",
    "# initialize pools\n",
    "contracts['PoolManager'].functions['initialize'](\n",
    "    key0, sqrtPriceX96\n",
    ").transact(default_txn)\n",
    "\n",
    "contracts['PoolManager'].functions['initialize'](\n",
    "    key1, sqrtPriceX96\n",
    ").transact(default_txn)\n"
   ]
  },
  {
   "cell_type": "markdown",
   "metadata": {},
   "source": [
    "## Simulation"
   ]
  },
  {
   "cell_type": "code",
   "execution_count": 9,
   "metadata": {},
   "outputs": [],
   "source": [
    "def modifyLiquidity(poolKey, tickLower, tickUpper, liquidityDelta):\n",
    "    positionParams = {\n",
    "        \"tickLower\": tickLower,\n",
    "        \"tickUpper\": tickUpper,\n",
    "        \"liquidityDelta\": liquidityDelta,\n",
    "    }\n",
    "    contracts['PoolModifyPositionTest'].functions[\"modifyPosition\"](\n",
    "        poolKey,\n",
    "        positionParams\n",
    "    ).transact(default_txn)\n",
    "    \n",
    "def swap(poolKey, zeroForOne, amountSpecified):\n",
    "    settings = {\n",
    "        \"withdrawTokens\": True,\n",
    "        \"settleUsingTransfer\": True\n",
    "    }\n",
    "    # parameters for infinite impact\n",
    "    MIN_PRICE_LIMIT = 4295128739 + 1\n",
    "    MAX_PRICE_LIMIT = 1461446703485210103287273052203988822378723970342 - 1\n",
    "    params = {\n",
    "        \"zeroForOne\": zeroForOne,\n",
    "        \"amountSpecified\": amountSpecified,\n",
    "        \"sqrtPriceLimitX96\": MIN_PRICE_LIMIT if zeroForOne else MAX_PRICE_LIMIT,\n",
    "    }\n",
    "    contracts['PoolSwapTest'].functions['swap'](\n",
    "        poolKey,\n",
    "        params,\n",
    "        settings\n",
    "    ).transact(default_txn)\n"
   ]
  },
  {
   "cell_type": "code",
   "execution_count": 24,
   "metadata": {},
   "outputs": [],
   "source": [
    "# loop over the events and simulate the actions against the pools\n",
    "for row in event_df.iter_rows(named=True):\n",
    "    if row['topic0'] == mint_event_bytes:\n",
    "        (sender, amount, amount0, amount1) = decode_abi(mint_decode_types, row['data'])\n",
    "        owner = decode_abi([\"address\"], row['topic1'])\n",
    "        tickLower = decode_abi([\"int24\"], row['topic2'])\n",
    "        tickUpper = decode_abi([\"int24\"], row['topic3'])\n",
    "        \n",
    "    elif row['topic0'] == burn_event_bytes:\n",
    "        (amount, amount0, amount1) = decode_abi(burn_decode_types, row['data'])\n",
    "        owner = decode_abi([\"address\"], row['topic1'])\n",
    "        tickLower = decode_abi([\"int24\"], row['topic2'])\n",
    "        tickUpper = decode_abi([\"int24\"], row['topic3'])\n",
    "    elif row['topic0'] == swap_event_bytes:\n",
    "        (amount0, amount1, sqrtPriceX96, liquidity, tick) = decode_abi(swap_decode_types, row['data'])\n",
    "        sender = decode_abi([\"address\"], row['topic1'])\n",
    "        recipient = decode_abi([\"address\"], row['topic2'])\n",
    "        # when amount1 < 0, the user traded token0 for token1\n",
    "        zeroForOne = True if amount1 < 0 else False\n",
    "        amountSpecified = amount0 if zeroForOne else amount1\n",
    "        # swap(key0, zeroForOne=zeroForOne, amountSpecified=amountSpecified)"
   ]
  },
  {
   "cell_type": "code",
   "execution_count": null,
   "metadata": {},
   "outputs": [],
   "source": []
  },
  {
   "cell_type": "code",
   "execution_count": null,
   "metadata": {},
   "outputs": [],
   "source": []
  }
 ],
 "metadata": {
  "kernelspec": {
   "display_name": "v4",
   "language": "python",
   "name": "python3"
  },
  "language_info": {
   "codemirror_mode": {
    "name": "ipython",
    "version": 3
   },
   "file_extension": ".py",
   "mimetype": "text/x-python",
   "name": "python",
   "nbconvert_exporter": "python",
   "pygments_lexer": "ipython3",
   "version": "3.11.4"
  },
  "orig_nbformat": 4
 },
 "nbformat": 4,
 "nbformat_minor": 2
}
